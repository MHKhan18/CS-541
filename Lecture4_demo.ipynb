{
  "nbformat": 4,
  "nbformat_minor": 0,
  "metadata": {
    "colab": {
      "provenance": [],
      "toc_visible": true,
      "include_colab_link": true
    },
    "kernelspec": {
      "name": "python3",
      "display_name": "Python 3"
    },
    "language_info": {
      "name": "python"
    }
  },
  "cells": [
    {
      "cell_type": "markdown",
      "metadata": {
        "id": "view-in-github",
        "colab_type": "text"
      },
      "source": [
        "<a href=\"https://colab.research.google.com/github/MHKhan18/colab-notebooks/blob/main/Lecture4_demo.ipynb\" target=\"_parent\"><img src=\"https://colab.research.google.com/assets/colab-badge.svg\" alt=\"Open In Colab\"/></a>"
      ]
    },
    {
      "cell_type": "markdown",
      "source": [
        "We will look at an example of the transportation problem. There are street with blocks numbered 1 to n. Walking from s to s + 1 takes 1 minute. Taking a magic tram from s to 2s takes 2 minutes. How to travel from 1 to n in the least time?\n",
        "\n",
        "To formalize this problem, first we define the start state, successor and cost function. "
      ],
      "metadata": {
        "id": "Rs4BBFVj8FK4"
      }
    },
    {
      "cell_type": "code",
      "source": [
        "import heapq, collections, re, sys, time, os, random\n",
        "\n",
        "# Data structure for supporting uniform cost search.\n",
        "class PriorityQueue:\n",
        "    def  __init__(self):\n",
        "        self.DONE = -100000\n",
        "        self.heap = []\n",
        "        self.priorities = {}  # Map from state to priority\n",
        "\n",
        "    # Insert |state| into the heap with priority |newPriority| if\n",
        "    # |state| isn't in the heap or |newPriority| is smaller than the existing\n",
        "    # priority.\n",
        "    # Return whether the priority queue was updated.\n",
        "    def update(self, state, newPriority, newHistory):\n",
        "        oldPriority = self.priorities.get(state)\n",
        "        if oldPriority == None or newPriority < oldPriority:\n",
        "            self.priorities[state] = newPriority\n",
        "            heapq.heappush(self.heap, (newPriority, state, newHistory))\n",
        "            return True\n",
        "        return False\n",
        "\n",
        "    # Returns (state with minimum priority, priority)\n",
        "    # or (None, None) if the priority queue is empty.\n",
        "    def removeMin(self):\n",
        "        while len(self.heap) > 0:\n",
        "            priority, state, history = heapq.heappop(self.heap)\n",
        "            if self.priorities[state] == self.DONE: continue  # Outdated priority, skip\n",
        "            self.priorities[state] = self.DONE\n",
        "            return (state, priority, history)\n",
        "        return (None, None, None) # Nothing left...\n"
      ],
      "metadata": {
        "id": "pi3nsqNsWM1d"
      },
      "execution_count": null,
      "outputs": []
    },
    {
      "cell_type": "code",
      "execution_count": null,
      "metadata": {
        "id": "miTAQbGx75d9"
      },
      "outputs": [],
      "source": [
        "class TransportationProblem(object):\n",
        "    def __init__(self, N):\n",
        "        # N = number of blocks\n",
        "        self.N = N\n",
        "    def startState(self):\n",
        "        return 1\n",
        "    def succAndCost(self, state):\n",
        "        # return list of (action, newState, cost) triples\n",
        "        result = []\n",
        "        if state + 1 <= self.N:\n",
        "          result.append(('walk', state+1, 1))\n",
        "        if state * 2 <= self.N:\n",
        "          result.append(('tram', state*2, 2))\n",
        "        return result\n",
        "    def isEnd(self, state):\n",
        "        return state == self.N"
      ]
    },
    {
      "cell_type": "code",
      "source": [
        "def backtrackingSearch(problem):\n",
        "    # TODO: Best solution found so far (dictionary because of python scoping technicality)\n",
        "    best = {\n",
        "        'cost': float('+inf'),\n",
        "        'history': None\n",
        "    }\n",
        "    def recurse(state, history, totalCost):\n",
        "        if problem.isEnd(state):\n",
        "            # Update the best solution so far\n",
        "            # TODO: Update the best solution so far\n",
        "            if totalCost < best['cost']:\n",
        "              best['cost'] = totalCost\n",
        "              best['history'] = history\n",
        "            return\n",
        "        # TODO: Recurse on children\n",
        "        for action, newState, cost in problem.succAndCost(state):\n",
        "          recurse(newState, history+[(action, newState, cost)], totalCost + cost)\n",
        "    # TODO: start w/ start state, call it on the start state\n",
        "    recurse(problem.startState(), history=[], totalCost=0)\n",
        "    return (best['cost'], best['history'])"
      ],
      "metadata": {
        "id": "kL6FNrXe8EhQ"
      },
      "execution_count": null,
      "outputs": []
    },
    {
      "cell_type": "code",
      "source": [
        "def dynamicProgramming(problem):\n",
        "    cache = {} # state -> futureCost(state)\n",
        "    def futureCost(state):\n",
        "        # Base case\n",
        "        if problem.isEnd(state):\n",
        "            return 0\n",
        "        if state in cache:\n",
        "            return cache[state]\n",
        "        result = min(cost + futureCost(newState) \\\n",
        "          for action, newState, cost in problem.succAndCost(state))\n",
        "        cache[state] = result\n",
        "        return result\n",
        "    return (futureCost(problem.startState()), [])"
      ],
      "metadata": {
        "id": "2xzJ55kE84Yy"
      },
      "execution_count": null,
      "outputs": []
    },
    {
      "cell_type": "code",
      "source": [
        "def uniformCostSearch(problem):\n",
        "    frontier = PriorityQueue()\n",
        "    frontier.update(problem.startState(), 0, [])\n",
        "    explored = set([])\n",
        "    while True:\n",
        "        # TODO: Pop the minimum cost state from frontier and add to explored\n",
        "        state, pastCost, history = frontier.removeMin()\n",
        "        explored.add(state)\n",
        "        if problem.isEnd(state):\n",
        "            # TODO: return the past cost and history\n",
        "            return (pastCost, history)\n",
        "        # TODO: iterate from successor state\n",
        "        # for each successor state, if it's not explored, update the cost and history\n",
        "        for action, newState, cost in problem.succAndCost(state):\n",
        "            if newState in explored:\n",
        "               continue\n",
        "            frontier.update(newState, pastCost + cost, history + [(action, newState, cost)])"
      ],
      "metadata": {
        "id": "yNjK80Ud87s1"
      },
      "execution_count": null,
      "outputs": []
    },
    {
      "cell_type": "code",
      "source": [
        "def printSolution(solution):\n",
        "    totalCost, history = solution\n",
        "    print('totalCost: {}'.format(totalCost))\n",
        "    for item in history:\n",
        "        print(item)"
      ],
      "metadata": {
        "id": "VhzGxkAF9V2O"
      },
      "execution_count": null,
      "outputs": []
    },
    {
      "cell_type": "code",
      "source": [
        "problem = TransportationProblem(N=100)\n",
        "#print(problem.succAndCost(3))\n",
        "printSolution(uniformCostSearch(problem))"
      ],
      "metadata": {
        "colab": {
          "base_uri": "https://localhost:8080/"
        },
        "id": "gFgppRby8-DA",
        "outputId": "6a9e1929-c65c-4f2a-da8e-f72178d97ee4"
      },
      "execution_count": null,
      "outputs": [
        {
          "output_type": "stream",
          "name": "stdout",
          "text": [
            "totalCost: 13\n",
            "('walk', 2, 1)\n",
            "('walk', 3, 1)\n",
            "('tram', 6, 2)\n",
            "('tram', 12, 2)\n",
            "('tram', 24, 2)\n",
            "('walk', 25, 1)\n",
            "('tram', 50, 2)\n",
            "('tram', 100, 2)\n"
          ]
        }
      ]
    }
  ]
}