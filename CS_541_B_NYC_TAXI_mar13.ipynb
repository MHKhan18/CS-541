{
  "nbformat": 4,
  "nbformat_minor": 0,
  "metadata": {
    "colab": {
      "provenance": [],
      "include_colab_link": true
    },
    "kernelspec": {
      "name": "python3",
      "display_name": "Python 3"
    },
    "language_info": {
      "name": "python"
    },
    "accelerator": "GPU",
    "gpuClass": "standard"
  },
  "cells": [
    {
      "cell_type": "markdown",
      "metadata": {
        "id": "view-in-github",
        "colab_type": "text"
      },
      "source": [
        "<a href=\"https://colab.research.google.com/github/MHKhan18/colab-notebooks/blob/main/CS_541_B_NYC_TAXI_mar13.ipynb\" target=\"_parent\"><img src=\"https://colab.research.google.com/assets/colab-badge.svg\" alt=\"Open In Colab\"/></a>"
      ]
    },
    {
      "cell_type": "markdown",
      "source": [
        "# CS 541-B Assignment 2 -- A * search and Uniform Cost Search on NYC Taxi dataset\n",
        "\n",
        "#### Name: Mohammad Khan\n",
        "#### Stevens ID: mkhan13@stevens.edu"
      ],
      "metadata": {
        "id": "Z9vH5X77EpLu"
      }
    },
    {
      "cell_type": "markdown",
      "source": [
        "## NYC Taxi Data\n",
        "---\n",
        "The task is to perform Uniform Cost Search and A∗ search. The dataset contains a list of the taxi trips made in NYC in the January 2015. \n",
        "\n",
        "Part 1. [20 pts] Represent the data as a graph. For the sake of simplicity, you can assume that edges are only between locations which had a valid taxi trip between them. \n",
        "\n",
        "Part 2. [20 pts] Implement the succAndCost fucntion that returns all the connected nodes from the passed node.\n",
        "And implement the heuristic fucntion using geopy\n",
        "\n",
        "#### Note: You can install geopy using the command\n",
        "     pip install geopy\n",
        "\n",
        "Part 3. [60 pts] \n",
        "\n",
        "\n",
        "*   Implement the Uniform Cost search where you can use the trip distances as the edge costs. The program should input two node ids from the user and output the path as well as the cost between them. \n",
        "*   Implement A∗ search using a heuristic. One idea of a heuristic value is to use straight line distance between 2 points. This can be computed using the geopy package. The program should input two node ids from the user and output the path as well as the cost between them. "
      ],
      "metadata": {
        "id": "ACGelXsAIpii"
      }
    },
    {
      "cell_type": "code",
      "execution_count": 22,
      "metadata": {
        "id": "QV_IYemPuSes"
      },
      "outputs": [],
      "source": [
        "# Required libraries\n",
        "import pandas as pd\n",
        "from tqdm import tqdm\n",
        "from geopy import distance\n",
        "import heapq, collections, re, sys, time, os, random"
      ]
    },
    {
      "cell_type": "code",
      "source": [
        "\"\"\"\n",
        "    Download the datset from the below link\n",
        "\"\"\"\n",
        "!wget 'https://raw.githubusercontent.com/GABudhrani/Assignment_2_NYC_TAxi/main/NYC_dataset.csv'"
      ],
      "metadata": {
        "colab": {
          "base_uri": "https://localhost:8080/"
        },
        "id": "QwxMpJejuWdz",
        "outputId": "9bf270fd-d271-49ad-ef03-3e456bb464de"
      },
      "execution_count": 2,
      "outputs": [
        {
          "output_type": "stream",
          "name": "stdout",
          "text": [
            "--2023-03-28 17:27:22--  https://raw.githubusercontent.com/GABudhrani/Assignment_2_NYC_TAxi/main/NYC_dataset.csv\n",
            "Resolving raw.githubusercontent.com (raw.githubusercontent.com)... 185.199.108.133, 185.199.109.133, 185.199.110.133, ...\n",
            "Connecting to raw.githubusercontent.com (raw.githubusercontent.com)|185.199.108.133|:443... connected.\n",
            "HTTP request sent, awaiting response... 200 OK\n",
            "Length: 8501184 (8.1M) [text/plain]\n",
            "Saving to: ‘NYC_dataset.csv’\n",
            "\n",
            "NYC_dataset.csv     100%[===================>]   8.11M  --.-KB/s    in 0.04s   \n",
            "\n",
            "2023-03-28 17:27:22 (213 MB/s) - ‘NYC_dataset.csv’ saved [8501184/8501184]\n",
            "\n"
          ]
        }
      ]
    },
    {
      "cell_type": "code",
      "source": [
        "data_NYC = pd.read_csv(\"NYC_dataset.csv\")\n",
        "data_NYC.head(1)"
      ],
      "metadata": {
        "colab": {
          "base_uri": "https://localhost:8080/",
          "height": 125
        },
        "id": "QV17RQczuZ_b",
        "outputId": "d8ed95e8-9e2f-4d7c-b46c-524c4d839d7c"
      },
      "execution_count": 3,
      "outputs": [
        {
          "output_type": "execute_result",
          "data": {
            "text/plain": [
              "   pickup_longitude  pickup_latitude  dropoff_longitude  dropoff_latitude  \\\n",
              "0          -73.9641          40.7614            -73.978           40.7831   \n",
              "\n",
              "   trip_distance  nodeid1  nodeid2  \n",
              "0            2.4    48293    28440  "
            ],
            "text/html": [
              "\n",
              "  <div id=\"df-44e7322c-b1a3-4c40-8fdd-14db4e810504\">\n",
              "    <div class=\"colab-df-container\">\n",
              "      <div>\n",
              "<style scoped>\n",
              "    .dataframe tbody tr th:only-of-type {\n",
              "        vertical-align: middle;\n",
              "    }\n",
              "\n",
              "    .dataframe tbody tr th {\n",
              "        vertical-align: top;\n",
              "    }\n",
              "\n",
              "    .dataframe thead th {\n",
              "        text-align: right;\n",
              "    }\n",
              "</style>\n",
              "<table border=\"1\" class=\"dataframe\">\n",
              "  <thead>\n",
              "    <tr style=\"text-align: right;\">\n",
              "      <th></th>\n",
              "      <th>pickup_longitude</th>\n",
              "      <th>pickup_latitude</th>\n",
              "      <th>dropoff_longitude</th>\n",
              "      <th>dropoff_latitude</th>\n",
              "      <th>trip_distance</th>\n",
              "      <th>nodeid1</th>\n",
              "      <th>nodeid2</th>\n",
              "    </tr>\n",
              "  </thead>\n",
              "  <tbody>\n",
              "    <tr>\n",
              "      <th>0</th>\n",
              "      <td>-73.9641</td>\n",
              "      <td>40.7614</td>\n",
              "      <td>-73.978</td>\n",
              "      <td>40.7831</td>\n",
              "      <td>2.4</td>\n",
              "      <td>48293</td>\n",
              "      <td>28440</td>\n",
              "    </tr>\n",
              "  </tbody>\n",
              "</table>\n",
              "</div>\n",
              "      <button class=\"colab-df-convert\" onclick=\"convertToInteractive('df-44e7322c-b1a3-4c40-8fdd-14db4e810504')\"\n",
              "              title=\"Convert this dataframe to an interactive table.\"\n",
              "              style=\"display:none;\">\n",
              "        \n",
              "  <svg xmlns=\"http://www.w3.org/2000/svg\" height=\"24px\"viewBox=\"0 0 24 24\"\n",
              "       width=\"24px\">\n",
              "    <path d=\"M0 0h24v24H0V0z\" fill=\"none\"/>\n",
              "    <path d=\"M18.56 5.44l.94 2.06.94-2.06 2.06-.94-2.06-.94-.94-2.06-.94 2.06-2.06.94zm-11 1L8.5 8.5l.94-2.06 2.06-.94-2.06-.94L8.5 2.5l-.94 2.06-2.06.94zm10 10l.94 2.06.94-2.06 2.06-.94-2.06-.94-.94-2.06-.94 2.06-2.06.94z\"/><path d=\"M17.41 7.96l-1.37-1.37c-.4-.4-.92-.59-1.43-.59-.52 0-1.04.2-1.43.59L10.3 9.45l-7.72 7.72c-.78.78-.78 2.05 0 2.83L4 21.41c.39.39.9.59 1.41.59.51 0 1.02-.2 1.41-.59l7.78-7.78 2.81-2.81c.8-.78.8-2.07 0-2.86zM5.41 20L4 18.59l7.72-7.72 1.47 1.35L5.41 20z\"/>\n",
              "  </svg>\n",
              "      </button>\n",
              "      \n",
              "  <style>\n",
              "    .colab-df-container {\n",
              "      display:flex;\n",
              "      flex-wrap:wrap;\n",
              "      gap: 12px;\n",
              "    }\n",
              "\n",
              "    .colab-df-convert {\n",
              "      background-color: #E8F0FE;\n",
              "      border: none;\n",
              "      border-radius: 50%;\n",
              "      cursor: pointer;\n",
              "      display: none;\n",
              "      fill: #1967D2;\n",
              "      height: 32px;\n",
              "      padding: 0 0 0 0;\n",
              "      width: 32px;\n",
              "    }\n",
              "\n",
              "    .colab-df-convert:hover {\n",
              "      background-color: #E2EBFA;\n",
              "      box-shadow: 0px 1px 2px rgba(60, 64, 67, 0.3), 0px 1px 3px 1px rgba(60, 64, 67, 0.15);\n",
              "      fill: #174EA6;\n",
              "    }\n",
              "\n",
              "    [theme=dark] .colab-df-convert {\n",
              "      background-color: #3B4455;\n",
              "      fill: #D2E3FC;\n",
              "    }\n",
              "\n",
              "    [theme=dark] .colab-df-convert:hover {\n",
              "      background-color: #434B5C;\n",
              "      box-shadow: 0px 1px 3px 1px rgba(0, 0, 0, 0.15);\n",
              "      filter: drop-shadow(0px 1px 2px rgba(0, 0, 0, 0.3));\n",
              "      fill: #FFFFFF;\n",
              "    }\n",
              "  </style>\n",
              "\n",
              "      <script>\n",
              "        const buttonEl =\n",
              "          document.querySelector('#df-44e7322c-b1a3-4c40-8fdd-14db4e810504 button.colab-df-convert');\n",
              "        buttonEl.style.display =\n",
              "          google.colab.kernel.accessAllowed ? 'block' : 'none';\n",
              "\n",
              "        async function convertToInteractive(key) {\n",
              "          const element = document.querySelector('#df-44e7322c-b1a3-4c40-8fdd-14db4e810504');\n",
              "          const dataTable =\n",
              "            await google.colab.kernel.invokeFunction('convertToInteractive',\n",
              "                                                     [key], {});\n",
              "          if (!dataTable) return;\n",
              "\n",
              "          const docLinkHtml = 'Like what you see? Visit the ' +\n",
              "            '<a target=\"_blank\" href=https://colab.research.google.com/notebooks/data_table.ipynb>data table notebook</a>'\n",
              "            + ' to learn more about interactive tables.';\n",
              "          element.innerHTML = '';\n",
              "          dataTable['output_type'] = 'display_data';\n",
              "          await google.colab.output.renderOutput(dataTable, element);\n",
              "          const docLink = document.createElement('div');\n",
              "          docLink.innerHTML = docLinkHtml;\n",
              "          element.appendChild(docLink);\n",
              "        }\n",
              "      </script>\n",
              "    </div>\n",
              "  </div>\n",
              "  "
            ]
          },
          "metadata": {},
          "execution_count": 3
        }
      ]
    },
    {
      "cell_type": "code",
      "source": [
        "def plot_nodes_edges(node1, node2, cost, graph):\n",
        "    \"\"\" Input:\n",
        "              Node 1, Node 2, Cost(\ttrip_distance) \n",
        "              \n",
        "              example :- 48293, 28440, 2.40\n",
        "        Output: \n",
        "              return graph (Add Key as Node and value as its relevent node and cost)\n",
        "\n",
        "              Example :- \n",
        "              {48293: {2.4: 28440, 1.7: 30199, 0.82: 38931, 3.1: 57087, 1.0: 39197},\n",
        "               28440: {2.4: 48293, 1.28: 7474, 2.08: 74465, 1.63: 17351}}\n",
        "              \"\"\"\n",
        "\n",
        "    node_cost = {}\n",
        "    ##############################################START HERE##############################################\n",
        "    # Part 1 (20 pt)\n",
        "    if node1 in graph: \n",
        "      graph[node1][cost] = node2\n",
        "    else: \n",
        "      graph[node1] = {cost : node2}\n",
        "    if node2 in graph:\n",
        "      graph[node2][cost] = node1\n",
        "    else:\n",
        "      graph[node2] = {cost: node1}\n",
        "    ##############################################END HERE################################################\n",
        "    return graph\n",
        "    \n",
        "\n",
        "def create_nodes_edges(dataset):\n",
        "    graph = {}\n",
        "    for i in tqdm(range(dataset.shape[0])):\n",
        "      graph = plot_nodes_edges(dataset.nodeid1[i], dataset.nodeid2[i], dataset.trip_distance[i], graph)\n",
        "      graph = plot_nodes_edges(dataset.nodeid2[i], dataset.nodeid1[i], dataset.trip_distance[i], graph)\n",
        "    return graph \n",
        "\n",
        "    \n",
        "def extract_longitude_latitude(dataset):\n",
        "    \"\"\" Input : \n",
        "              (nodeid1, pickup_latitude, pickup_longitude), Here we want to connect each node \n",
        "              with its pickup_longitude & pickup_latitude\n",
        "              (nodeid2, pickup_latitude, pickup_longitude), Here we want to connect each node \n",
        "              with its dropoff_longitude & dropoff_latitude\n",
        "        Output : \n",
        "              {node : [latitude, longitude]} \"\"\"\n",
        "    node_lat_long = {}\n",
        "    for i in tqdm(range(dataset.shape[0])):\n",
        "        node_lat_long[dataset.nodeid1[i]] = [dataset.pickup_latitude[i],dataset.pickup_longitude[i]]\n",
        "        node_lat_long[dataset.nodeid2[i]] = [dataset.dropoff_latitude[i],dataset.dropoff_longitude[i]]\n",
        "    return  node_lat_long"
      ],
      "metadata": {
        "id": "B7miUbyGudlc"
      },
      "execution_count": 4,
      "outputs": []
    },
    {
      "cell_type": "code",
      "source": [
        "graph = create_nodes_edges(data_NYC)"
      ],
      "metadata": {
        "colab": {
          "base_uri": "https://localhost:8080/"
        },
        "id": "24viIfde6XWY",
        "outputId": "07aae119-13f4-45bf-f051-9025deef4886"
      },
      "execution_count": 5,
      "outputs": [
        {
          "output_type": "stream",
          "name": "stderr",
          "text": [
            "100%|██████████| 168152/168152 [00:08<00:00, 19481.22it/s]\n"
          ]
        }
      ]
    },
    {
      "cell_type": "code",
      "source": [
        "# calling create_nodes_edges fucntion\n",
        "node_lat_long = extract_longitude_latitude(data_NYC)"
      ],
      "metadata": {
        "colab": {
          "base_uri": "https://localhost:8080/"
        },
        "id": "DYd3H8XpLUJ4",
        "outputId": "cabdee37-e35d-4525-c004-63874f66e78d"
      },
      "execution_count": 6,
      "outputs": [
        {
          "output_type": "stream",
          "name": "stderr",
          "text": [
            "100%|██████████| 168152/168152 [00:08<00:00, 18937.80it/s]\n"
          ]
        }
      ]
    },
    {
      "cell_type": "code",
      "source": [
        "# Data structure for supporting uniform cost search.\n",
        "class PriorityQueue:\n",
        "    def  __init__(self):\n",
        "        self.DONE = -100000\n",
        "        self.heap = []\n",
        "        self.priorities = {}  # Map from state to priority\n",
        "\n",
        "    # Insert |state| into the heap with priority |newPriority| if\n",
        "    # |state| isn't in the heap or |newPriority| is smaller than the existing\n",
        "    # priority.\n",
        "    # Return whether the priority queue was updated.\n",
        "    def update(self, node, newCost, newHistory):\n",
        "        oldCost = self.priorities.get(node, None)\n",
        "        if oldCost == None or newCost < oldCost:\n",
        "            self.priorities[node] = newCost\n",
        "            heapq.heappush(self.heap, (newCost, node, newHistory))\n",
        "            return True\n",
        "        return False\n",
        "\n",
        "    # Returns (state with minimum priority, priority)\n",
        "    # or (None, None) if the priority queue is empty.\n",
        "    def removeMin(self):\n",
        "        while len(self.heap) > 0:\n",
        "            priority, state, history = heapq.heappop(self.heap)\n",
        "            if self.priorities[state] == self.DONE: continue  # Outdated priority, skip\n",
        "            self.priorities[state] = self.DONE\n",
        "            return (state, priority, history)\n",
        "        return (None, None, None) # Nothing left...\n"
      ],
      "metadata": {
        "id": "XzNDNujhwte8"
      },
      "execution_count": 7,
      "outputs": []
    },
    {
      "cell_type": "code",
      "source": [
        "class PathFinding(object):\n",
        "    def __init__(self, graph, node_lat_long, start_position, end_position):\n",
        "        self.graph = graph\n",
        "        self.node_lat_long = node_lat_long\n",
        "        self.start_node = start_position\n",
        "        self.end_node = end_position\n",
        "        \n",
        "    def startState(self):\n",
        "        return self.start_node\n",
        "    \n",
        "    def succAndCost(self, current_node):\n",
        "        \"\"\" \n",
        "            In this Funciton we have to return all the nodes that are connected to the current_node. \n",
        "            \n",
        "            Note that your code needs to work for any input, not just for the one example below. \n",
        "\n",
        "            Input:\n",
        "                  curent_node\n",
        "            output: \n",
        "            children: all the nodes that are connected to the current node and it's cost.\n",
        "            Example: children = [(node1,cost1), (node2, cost2)]\n",
        "        \"\"\"\n",
        "        # Generate children\n",
        "        children = []\n",
        "        ##############################################START HERE##############################################\n",
        "        # Part 2.1 (10 pt)\n",
        "        if current_node in self.graph:\n",
        "          for cost, node in self.graph[current_node].items():\n",
        "            children.append((node, cost))\n",
        "        ##############################################END HERE################################################        \n",
        "        return children\n",
        "    \n",
        "    def isEnd(self, current_node):\n",
        "        return self.end_node == current_node\n",
        "    \n",
        "    def heuristic(self, node):\n",
        "        \"\"\" \n",
        "          In this function you need to return the heuristic value of node. \n",
        "          Input: \n",
        "              Input will be the node\n",
        "          Output: \n",
        "              Output will the distance between the node and the end node, please use distance.geodesic to compute the actual distance between two nodes\n",
        "        \"\"\"\n",
        "        ##############################################START HERE##############################################\n",
        "          # Part 2.2 (10 pt)\n",
        "        result = distance.geodesic(node_lat_long[node], node_lat_long[self.end_node]).miles\n",
        "\n",
        "        ##############################################END HERE################################################\n",
        "        return result"
      ],
      "metadata": {
        "id": "iwwnPTi5wu5g"
      },
      "execution_count": 8,
      "outputs": []
    },
    {
      "cell_type": "code",
      "source": [
        "def printSolution(solution):\n",
        "    totalCost, history = solution\n",
        "    print_history = 'Starting Node' \n",
        "    for node in history:\n",
        "        print_history += ' -> ' + str(node)\n",
        "    print(print_history)\n",
        "    print('totalCost: {}'.format(totalCost))"
      ],
      "metadata": {
        "id": "AsCMkYErwwNf"
      },
      "execution_count": 9,
      "outputs": []
    },
    {
      "cell_type": "code",
      "source": [
        "def astar(problem):\n",
        "    frontier = PriorityQueue()\n",
        "    explored = set([])\n",
        "    \"\"\" \n",
        "        In this function you have to write an algorithm to calculate the path with the minimum cost using A* Search \n",
        "        by calculating it's heuristic cost. Replace the code between the #### with the correct implementation. \n",
        "        Input:\n",
        "              Input will be an object of the class PathFinding\n",
        "        Output:\n",
        "              return cost, history\n",
        "              (history: Path from start node to the end node\n",
        "              cost: Cost to travel from start node to end node)\n",
        "\n",
        "                              OR\n",
        "\n",
        "              return  -1, []\n",
        "              (if no path is found between Start node and End node)\n",
        "    \"\"\"\n",
        "\n",
        "    ##############################################START HERE##############################################\n",
        "    # Part 3 (30 pt)\n",
        "    start_node = problem.startState()\n",
        "    frontier.update(start_node, problem.heuristic(start_node), [])\n",
        "\n",
        "    while True:\n",
        "      path_exists = False\n",
        "      current_node, past_cost, history = frontier.removeMin()\n",
        "      if current_node is None:\n",
        "        break\n",
        "      explored.add(current_node)\n",
        "      if problem.isEnd(current_node):\n",
        "        result = (past_cost, history)\n",
        "        path_exists = True\n",
        "        break \n",
        "      current_node_heuristics = problem.heuristic(current_node)\n",
        "      for child_node, cur_node_cost in problem.succAndCost(current_node):\n",
        "        if child_node in explored:\n",
        "          continue\n",
        "        child_heuristic = problem.heuristic(child_node)\n",
        "        new_distance = past_cost + cur_node_cost + child_heuristic - current_node_heuristics\n",
        "        frontier.update(child_node, new_distance, history + [child_node]) \n",
        "\n",
        "    return result if path_exists else (-1,[])\n",
        "    ##############################################END HERE################################################\n",
        "    "
      ],
      "metadata": {
        "id": "B0oK37-oMjpl"
      },
      "execution_count": 25,
      "outputs": []
    },
    {
      "cell_type": "code",
      "source": [
        "def UCS(problem):\n",
        "    \"\"\" \n",
        "        In this function you have to write an algorithm to calculate the path with the minimum cost using Uniform Cost Search and UCS \n",
        "        by calculating it's heuristic cost, cost respectively. Replace the code between the #### with the correct implementation. \n",
        "        Input:\n",
        "              Input will be an object of the class PathFinding\n",
        "        Output:\n",
        "              return cost, history\n",
        "              (history: Path from start node to the end node\n",
        "              cost: Cost to travel from start node to end node)\n",
        "\n",
        "                              OR\n",
        "\n",
        "              return  -1, []\n",
        "              (if no path is found between Start node and End node)\n",
        "    \"\"\"\n",
        "    frontier = PriorityQueue()\n",
        "    explored = set([])\n",
        "    ##############################################START HERE##############################################\n",
        "    # Part 3 (30 pt)\n",
        "    path_exists = False \n",
        "    frontier.update(problem.startState(), 0, [])\n",
        "    while True:\n",
        "      state, past_cost, history = frontier.removeMin()\n",
        "      if state is None:\n",
        "        break\n",
        "      explored.add(state)\n",
        "      if problem.isEnd(state):\n",
        "        result = (past_cost, history)\n",
        "        path_exists = True\n",
        "        break\n",
        "      for new_state, cost in problem.succAndCost(state):\n",
        "        if new_state in explored:\n",
        "          continue\n",
        "        frontier.update(new_state, past_cost + cost, history + [new_state])\n",
        "\n",
        "    return result if path_exists else (-1,[])\n",
        "    ##############################################END HERE################################################\n",
        "   "
      ],
      "metadata": {
        "id": "sQZj2NSwM-aC"
      },
      "execution_count": 26,
      "outputs": []
    },
    {
      "cell_type": "code",
      "source": [
        "\"\"\"\n",
        "    Below are some of the test cases that you can try\n",
        "    Start Node = 129891 | End Node = 7381\n",
        "    Start Node = 51080 | End Node 79375\n",
        "\n",
        "\"\"\"\n",
        "start_node = 129891\n",
        "end_node = 10666\n",
        "problem = PathFinding(graph, node_lat_long, start_node, end_node) "
      ],
      "metadata": {
        "id": "jQ1SvEnQObUO"
      },
      "execution_count": 27,
      "outputs": []
    },
    {
      "cell_type": "code",
      "source": [
        "# Astart Algorithm\n",
        "# Calling the function\n",
        "astart_path_cost = astar(problem)\n",
        "printSolution(astart_path_cost)"
      ],
      "metadata": {
        "colab": {
          "base_uri": "https://localhost:8080/"
        },
        "id": "uxiej_VcM8D4",
        "outputId": "304d93be-010e-4537-bd04-24129d453ccb"
      },
      "execution_count": 28,
      "outputs": [
        {
          "output_type": "stream",
          "name": "stdout",
          "text": [
            "Starting Node -> 134204 -> 102266 -> 47620 -> 10470 -> 140016 -> 121478 -> 87417 -> 96990 -> 93345 -> 7651 -> 46547 -> 10666\n",
            "totalCost: 15.679999999999998\n"
          ]
        }
      ]
    },
    {
      "cell_type": "code",
      "source": [
        "# UCS Algorithm\n",
        "# Calling the function\n",
        "ucs_path_cost = UCS(problem)\n",
        "printSolution(ucs_path_cost)"
      ],
      "metadata": {
        "colab": {
          "base_uri": "https://localhost:8080/"
        },
        "id": "pEPR9rrINn9w",
        "outputId": "e386d6f1-c421-4aa8-b474-bca2be23fece"
      },
      "execution_count": 29,
      "outputs": [
        {
          "output_type": "stream",
          "name": "stdout",
          "text": [
            "Starting Node -> 134204 -> 102266 -> 47620 -> 10470 -> 140016 -> 121478 -> 87417 -> 96990 -> 93345 -> 7651 -> 46547 -> 10666\n",
            "totalCost: 15.680000000000001\n"
          ]
        }
      ]
    },
    {
      "cell_type": "code",
      "source": [
        "start_node2 = 7381\n",
        "end_node2 = 10666\n",
        "problem2 = PathFinding(graph, node_lat_long, start_node2, end_node2) "
      ],
      "metadata": {
        "id": "qa0-5dcnRUoz"
      },
      "execution_count": 16,
      "outputs": []
    },
    {
      "cell_type": "code",
      "source": [
        "ucs_path_cost2 = UCS(problem2)\n",
        "printSolution(ucs_path_cost2)"
      ],
      "metadata": {
        "id": "_xN2XT6TRelK",
        "outputId": "c4c99422-0b0d-46df-d5b9-6ce37fcc68ac",
        "colab": {
          "base_uri": "https://localhost:8080/"
        }
      },
      "execution_count": 30,
      "outputs": [
        {
          "output_type": "stream",
          "name": "stdout",
          "text": [
            "Starting Node\n",
            "totalCost: -1\n"
          ]
        }
      ]
    },
    {
      "cell_type": "code",
      "source": [
        "astart_path_cost2 = astar(problem2)\n",
        "printSolution(astart_path_cost2)"
      ],
      "metadata": {
        "id": "qVTl7kn3ViTI",
        "outputId": "2f77e246-8f42-47db-d19b-9ba570912bc7",
        "colab": {
          "base_uri": "https://localhost:8080/"
        }
      },
      "execution_count": 31,
      "outputs": [
        {
          "output_type": "stream",
          "name": "stdout",
          "text": [
            "Starting Node\n",
            "totalCost: -1\n"
          ]
        }
      ]
    },
    {
      "cell_type": "code",
      "source": [
        "start_node3 = 129891\n",
        "end_node3 = 7381\n",
        "problem3 = PathFinding(graph, node_lat_long, start_node3, end_node3) "
      ],
      "metadata": {
        "id": "TarmaPauVo-A"
      },
      "execution_count": 32,
      "outputs": []
    },
    {
      "cell_type": "code",
      "source": [
        "ucs_path_cost3 = UCS(problem3)\n",
        "printSolution(ucs_path_cost3)"
      ],
      "metadata": {
        "id": "S-yLvkKSV_0q",
        "outputId": "c6420fa3-a6fb-4052-9c63-91147b462c53",
        "colab": {
          "base_uri": "https://localhost:8080/"
        }
      },
      "execution_count": 33,
      "outputs": [
        {
          "output_type": "stream",
          "name": "stdout",
          "text": [
            "Starting Node\n",
            "totalCost: -1\n"
          ]
        }
      ]
    },
    {
      "cell_type": "code",
      "source": [
        "astart_path_cost3 = astar(problem3)\n",
        "printSolution(astart_path_cost3)"
      ],
      "metadata": {
        "id": "bnrul38CWJ6W",
        "outputId": "06511474-eeb7-4abb-9735-b1cdad053817",
        "colab": {
          "base_uri": "https://localhost:8080/"
        }
      },
      "execution_count": 34,
      "outputs": [
        {
          "output_type": "stream",
          "name": "stdout",
          "text": [
            "Starting Node\n",
            "totalCost: -1\n"
          ]
        }
      ]
    },
    {
      "cell_type": "code",
      "source": [
        "import random\n",
        "\n",
        "size = len(data_NYC.index)\n",
        "TEST_SIZE = 20\n",
        "\n",
        "for i in range(TEST_SIZE):\n",
        "  from_node_index = random.randint(0, size-1)\n",
        "  to_node_index = random.randint(0, size-1)\n",
        "  \n",
        "  start_node = data_NYC.loc[from_node_index, \"nodeid1\"]\n",
        "  end_node = data_NYC.loc[to_node_index, \"nodeid2\"]\n",
        "  problem = PathFinding(graph, node_lat_long, start_node, end_node) \n",
        "\n",
        "  print(f\"###########################Running Test # {i+1}###############################\")\n",
        "\n",
        "  ucs_path_cost = UCS(problem)\n",
        "  if ucs_path_cost != False:\n",
        "      print(f\"UCS path from {start_node} to {end_node}:\")\n",
        "      printSolution(ucs_path_cost)\n",
        "  else:\n",
        "    print(f\"No path found in UCS from start node:{start_node} to end node:{end_node}\")\n",
        "  \n",
        "\n",
        "\n",
        "  astart_path_cost = astar(problem)\n",
        "  if astart_path_cost != False:\n",
        "      print(f\"A star path from {start_node} to {end_node}:\")\n",
        "      printSolution(astart_path_cost)\n",
        "  else:\n",
        "    print(f\"No path found in A star from start node:{start_node} to end node:{end_node}\")"
      ],
      "metadata": {
        "colab": {
          "base_uri": "https://localhost:8080/"
        },
        "id": "KnXEfnduvZOp",
        "outputId": "65e3b5ad-1049-4c3b-fa3f-ef2d3697becc"
      },
      "execution_count": 35,
      "outputs": [
        {
          "output_type": "stream",
          "name": "stdout",
          "text": [
            "###########################Running Test # 1###############################\n",
            "UCS path from 36609 to 124777:\n",
            "Starting Node -> 58545 -> 17242 -> 50971 -> 91022 -> 75827 -> 107192 -> 1243 -> 67180 -> 136474 -> 49716 -> 106239 -> 49995 -> 40735 -> 143675 -> 124777\n",
            "totalCost: 15.030000000000001\n",
            "A star path from 36609 to 124777:\n",
            "Starting Node -> 58545 -> 17242 -> 50971 -> 91022 -> 75827 -> 107192 -> 1243 -> 67180 -> 136474 -> 49716 -> 106239 -> 49995 -> 40735 -> 143675 -> 124777\n",
            "totalCost: 15.030000000000001\n",
            "###########################Running Test # 2###############################\n",
            "UCS path from 145081 to 13359:\n",
            "Starting Node -> 134464 -> 75144 -> 51651 -> 134118 -> 19655 -> 58226 -> 84898 -> 4656 -> 137297 -> 8077 -> 134667 -> 44030 -> 88472 -> 13359\n",
            "totalCost: 93.55\n",
            "A star path from 145081 to 13359:\n",
            "Starting Node -> 134464 -> 75144 -> 51651 -> 134118 -> 19655 -> 58226 -> 84898 -> 4656 -> 137297 -> 8077 -> 134667 -> 44030 -> 88472 -> 13359\n",
            "totalCost: 93.54999999999998\n",
            "###########################Running Test # 3###############################\n",
            "UCS path from 90820 to 34081:\n",
            "Starting Node\n",
            "totalCost: -1\n",
            "A star path from 90820 to 34081:\n",
            "Starting Node\n",
            "totalCost: -1\n",
            "###########################Running Test # 4###############################\n",
            "UCS path from 92701 to 96427:\n",
            "Starting Node -> 117797 -> 143523 -> 39372 -> 100713 -> 64125 -> 83127 -> 82374 -> 96427\n",
            "totalCost: 11.77\n",
            "A star path from 92701 to 96427:\n",
            "Starting Node -> 117797 -> 143523 -> 39372 -> 100713 -> 64125 -> 83127 -> 82374 -> 96427\n",
            "totalCost: 11.77\n",
            "###########################Running Test # 5###############################\n",
            "UCS path from 84191 to 26647:\n",
            "Starting Node -> 39557 -> 58182 -> 560 -> 120571 -> 94619 -> 28960 -> 39936 -> 4695 -> 141610 -> 31503 -> 26647\n",
            "totalCost: 10.78\n",
            "A star path from 84191 to 26647:\n",
            "Starting Node -> 39557 -> 58182 -> 560 -> 120571 -> 94619 -> 28960 -> 39936 -> 4695 -> 141610 -> 31503 -> 26647\n",
            "totalCost: 10.780000000000001\n",
            "###########################Running Test # 6###############################\n",
            "UCS path from 34522 to 140232:\n",
            "Starting Node\n",
            "totalCost: -1\n",
            "A star path from 34522 to 140232:\n",
            "Starting Node\n",
            "totalCost: -1\n",
            "###########################Running Test # 7###############################\n",
            "UCS path from 41261 to 17145:\n",
            "Starting Node -> 96627 -> 37710 -> 140755 -> 94930 -> 37860 -> 17145\n",
            "totalCost: 18.13\n",
            "A star path from 41261 to 17145:\n",
            "Starting Node -> 96627 -> 37710 -> 140755 -> 94930 -> 37860 -> 17145\n",
            "totalCost: 18.13\n",
            "###########################Running Test # 8###############################\n",
            "UCS path from 58000 to 113302:\n",
            "Starting Node -> 76696 -> 95450 -> 77668 -> 67257 -> 52488 -> 54913 -> 84386 -> 77462 -> 114886 -> 26841 -> 42628 -> 67586 -> 7616 -> 37058 -> 113302\n",
            "totalCost: 10.48\n",
            "A star path from 58000 to 113302:\n",
            "Starting Node -> 76696 -> 95450 -> 77668 -> 67257 -> 52488 -> 54913 -> 84386 -> 77462 -> 114886 -> 26841 -> 42628 -> 67586 -> 7616 -> 37058 -> 113302\n",
            "totalCost: 10.48\n",
            "###########################Running Test # 9###############################\n",
            "UCS path from 125069 to 44565:\n",
            "Starting Node\n",
            "totalCost: -1\n",
            "A star path from 125069 to 44565:\n",
            "Starting Node\n",
            "totalCost: -1\n",
            "###########################Running Test # 10###############################\n",
            "UCS path from 91562 to 6018:\n",
            "Starting Node -> 3527 -> 61208 -> 70954 -> 109758 -> 118260 -> 100243 -> 115278 -> 3835 -> 6018\n",
            "totalCost: 19.020000000000003\n",
            "A star path from 91562 to 6018:\n",
            "Starting Node -> 3527 -> 61208 -> 70954 -> 109758 -> 118260 -> 100243 -> 115278 -> 3835 -> 6018\n",
            "totalCost: 19.02\n",
            "###########################Running Test # 11###############################\n",
            "UCS path from 43882 to 129907:\n",
            "Starting Node\n",
            "totalCost: -1\n",
            "A star path from 43882 to 129907:\n",
            "Starting Node\n",
            "totalCost: -1\n",
            "###########################Running Test # 12###############################\n",
            "UCS path from 106968 to 42703:\n",
            "Starting Node\n",
            "totalCost: -1\n",
            "A star path from 106968 to 42703:\n",
            "Starting Node\n",
            "totalCost: -1\n",
            "###########################Running Test # 13###############################\n",
            "UCS path from 65727 to 129886:\n",
            "Starting Node -> 77514 -> 51777 -> 96019 -> 52900 -> 24055 -> 54047 -> 129886\n",
            "totalCost: 10.750000000000002\n",
            "A star path from 65727 to 129886:\n",
            "Starting Node -> 77514 -> 51777 -> 96019 -> 52900 -> 24055 -> 54047 -> 129886\n",
            "totalCost: 10.750000000000002\n",
            "###########################Running Test # 14###############################\n",
            "UCS path from 2588 to 135611:\n",
            "Starting Node -> 57877 -> 92518 -> 141067 -> 100154 -> 142725 -> 128500 -> 125727 -> 138852 -> 118788 -> 49208 -> 135611\n",
            "totalCost: 12.450000000000001\n",
            "A star path from 2588 to 135611:\n",
            "Starting Node -> 57877 -> 92518 -> 141067 -> 100154 -> 142725 -> 128500 -> 125727 -> 138852 -> 118788 -> 49208 -> 135611\n",
            "totalCost: 12.45\n",
            "###########################Running Test # 15###############################\n",
            "UCS path from 45308 to 118321:\n",
            "Starting Node -> 29770 -> 96981 -> 114892 -> 26069 -> 119038 -> 30234 -> 119811 -> 39224 -> 54838 -> 15081 -> 85029 -> 60351 -> 118321\n",
            "totalCost: 17.900000000000002\n",
            "A star path from 45308 to 118321:\n",
            "Starting Node -> 29770 -> 96981 -> 114892 -> 26069 -> 119038 -> 30234 -> 119811 -> 39224 -> 54838 -> 15081 -> 85029 -> 60351 -> 118321\n",
            "totalCost: 17.9\n",
            "###########################Running Test # 16###############################\n",
            "UCS path from 2355 to 25973:\n",
            "Starting Node\n",
            "totalCost: -1\n",
            "A star path from 2355 to 25973:\n",
            "Starting Node\n",
            "totalCost: -1\n",
            "###########################Running Test # 17###############################\n",
            "UCS path from 107409 to 48770:\n",
            "Starting Node -> 70481 -> 79326 -> 133822 -> 50437 -> 13079 -> 138584 -> 59521 -> 66225 -> 72530 -> 55399 -> 32529 -> 141978 -> 48770\n",
            "totalCost: 13.27\n",
            "A star path from 107409 to 48770:\n",
            "Starting Node -> 70481 -> 79326 -> 133822 -> 50437 -> 13079 -> 138584 -> 59521 -> 66225 -> 72530 -> 55399 -> 32529 -> 141978 -> 48770\n",
            "totalCost: 13.269999999999994\n",
            "###########################Running Test # 18###############################\n",
            "UCS path from 22135 to 96210:\n",
            "Starting Node\n",
            "totalCost: -1\n",
            "A star path from 22135 to 96210:\n",
            "Starting Node\n",
            "totalCost: -1\n",
            "###########################Running Test # 19###############################\n",
            "UCS path from 12059 to 62442:\n",
            "Starting Node -> 69582 -> 62250 -> 38750 -> 112293 -> 97628 -> 65147 -> 62442\n",
            "totalCost: 7.38\n",
            "A star path from 12059 to 62442:\n",
            "Starting Node -> 69582 -> 62250 -> 38750 -> 112293 -> 97628 -> 65147 -> 62442\n",
            "totalCost: 7.380000000000002\n",
            "###########################Running Test # 20###############################\n",
            "UCS path from 78124 to 33005:\n",
            "Starting Node -> 112530 -> 27788 -> 25097 -> 102671 -> 111833 -> 107816 -> 44153 -> 99863 -> 33005\n",
            "totalCost: 8.600000000000001\n",
            "A star path from 78124 to 33005:\n",
            "Starting Node -> 112530 -> 27788 -> 25097 -> 102671 -> 111833 -> 107816 -> 44153 -> 99863 -> 33005\n",
            "totalCost: 8.599999999999998\n"
          ]
        }
      ]
    }
  ]
}