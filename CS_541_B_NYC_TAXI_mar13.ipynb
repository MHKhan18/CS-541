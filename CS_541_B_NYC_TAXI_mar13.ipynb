{
  "nbformat": 4,
  "nbformat_minor": 0,
  "metadata": {
    "colab": {
      "provenance": [],
      "include_colab_link": true
    },
    "kernelspec": {
      "name": "python3",
      "display_name": "Python 3"
    },
    "language_info": {
      "name": "python"
    },
    "accelerator": "GPU",
    "gpuClass": "standard"
  },
  "cells": [
    {
      "cell_type": "markdown",
      "metadata": {
        "id": "view-in-github",
        "colab_type": "text"
      },
      "source": [
        "<a href=\"https://colab.research.google.com/github/MHKhan18/colab-notebooks/blob/main/CS_541_B_NYC_TAXI_mar13.ipynb\" target=\"_parent\"><img src=\"https://colab.research.google.com/assets/colab-badge.svg\" alt=\"Open In Colab\"/></a>"
      ]
    },
    {
      "cell_type": "markdown",
      "source": [
        "# CS 541-B Assignment 2 -- A * search and Uniform Cost Search on NYC Taxi dataset\n",
        "\n",
        "#### Name: Mohammad Khan\n",
        "#### Stevens ID: mkhan13@stevens.edu"
      ],
      "metadata": {
        "id": "Z9vH5X77EpLu"
      }
    },
    {
      "cell_type": "markdown",
      "source": [
        "## NYC Taxi Data\n",
        "---\n",
        "The task is to perform Uniform Cost Search and A∗ search. The dataset contains a list of the taxi trips made in NYC in the January 2015. \n",
        "\n",
        "Part 1. [20 pts] Represent the data as a graph. For the sake of simplicity, you can assume that edges are only between locations which had a valid taxi trip between them. \n",
        "\n",
        "Part 2. [20 pts] Implement the succAndCost fucntion that returns all the connected nodes from the passed node.\n",
        "And implement the heuristic fucntion using geopy\n",
        "\n",
        "#### Note: You can install geopy using the command\n",
        "     pip install geopy\n",
        "\n",
        "Part 3. [60 pts] \n",
        "\n",
        "\n",
        "*   Implement the Uniform Cost search where you can use the trip distances as the edge costs. The program should input two node ids from the user and output the path as well as the cost between them. \n",
        "*   Implement A∗ search using a heuristic. One idea of a heuristic value is to use straight line distance between 2 points. This can be computed using the geopy package. The program should input two node ids from the user and output the path as well as the cost between them. "
      ],
      "metadata": {
        "id": "ACGelXsAIpii"
      }
    },
    {
      "cell_type": "code",
      "execution_count": 2,
      "metadata": {
        "id": "QV_IYemPuSes"
      },
      "outputs": [],
      "source": [
        "# Required libraries\n",
        "import pandas as pd\n",
        "from tqdm import tqdm\n",
        "from geopy import distance\n",
        "import heapq, collections, re, sys, time, os, random"
      ]
    },
    {
      "cell_type": "code",
      "source": [
        "\"\"\"\n",
        "    Download the datset from the below link\n",
        "\"\"\"\n",
        "!wget 'https://raw.githubusercontent.com/GABudhrani/Assignment_2_NYC_TAxi/main/NYC_dataset.csv'"
      ],
      "metadata": {
        "colab": {
          "base_uri": "https://localhost:8080/"
        },
        "id": "QwxMpJejuWdz",
        "outputId": "f29e4844-9d74-4245-d8ca-8b5d4b4ce35c"
      },
      "execution_count": 3,
      "outputs": [
        {
          "output_type": "stream",
          "name": "stdout",
          "text": [
            "--2023-03-16 19:15:09--  https://raw.githubusercontent.com/GABudhrani/Assignment_2_NYC_TAxi/main/NYC_dataset.csv\n",
            "Resolving raw.githubusercontent.com (raw.githubusercontent.com)... 185.199.111.133, 185.199.108.133, 185.199.110.133, ...\n",
            "Connecting to raw.githubusercontent.com (raw.githubusercontent.com)|185.199.111.133|:443... connected.\n",
            "HTTP request sent, awaiting response... 200 OK\n",
            "Length: 8501184 (8.1M) [text/plain]\n",
            "Saving to: ‘NYC_dataset.csv’\n",
            "\n",
            "NYC_dataset.csv     100%[===================>]   8.11M  --.-KB/s    in 0.1s    \n",
            "\n",
            "2023-03-16 19:15:10 (56.6 MB/s) - ‘NYC_dataset.csv’ saved [8501184/8501184]\n",
            "\n"
          ]
        }
      ]
    },
    {
      "cell_type": "code",
      "source": [
        "data_NYC = pd.read_csv(\"NYC_dataset.csv\")\n",
        "data_NYC.head(1)"
      ],
      "metadata": {
        "colab": {
          "base_uri": "https://localhost:8080/",
          "height": 81
        },
        "id": "QV17RQczuZ_b",
        "outputId": "148c7ee5-687f-4ec4-eaa0-f0c67a624037"
      },
      "execution_count": 4,
      "outputs": [
        {
          "output_type": "execute_result",
          "data": {
            "text/plain": [
              "   pickup_longitude  pickup_latitude  dropoff_longitude  dropoff_latitude  \\\n",
              "0          -73.9641          40.7614            -73.978           40.7831   \n",
              "\n",
              "   trip_distance  nodeid1  nodeid2  \n",
              "0            2.4    48293    28440  "
            ],
            "text/html": [
              "\n",
              "  <div id=\"df-7445667c-1381-40ac-8e25-26f8ffd4f5a9\">\n",
              "    <div class=\"colab-df-container\">\n",
              "      <div>\n",
              "<style scoped>\n",
              "    .dataframe tbody tr th:only-of-type {\n",
              "        vertical-align: middle;\n",
              "    }\n",
              "\n",
              "    .dataframe tbody tr th {\n",
              "        vertical-align: top;\n",
              "    }\n",
              "\n",
              "    .dataframe thead th {\n",
              "        text-align: right;\n",
              "    }\n",
              "</style>\n",
              "<table border=\"1\" class=\"dataframe\">\n",
              "  <thead>\n",
              "    <tr style=\"text-align: right;\">\n",
              "      <th></th>\n",
              "      <th>pickup_longitude</th>\n",
              "      <th>pickup_latitude</th>\n",
              "      <th>dropoff_longitude</th>\n",
              "      <th>dropoff_latitude</th>\n",
              "      <th>trip_distance</th>\n",
              "      <th>nodeid1</th>\n",
              "      <th>nodeid2</th>\n",
              "    </tr>\n",
              "  </thead>\n",
              "  <tbody>\n",
              "    <tr>\n",
              "      <th>0</th>\n",
              "      <td>-73.9641</td>\n",
              "      <td>40.7614</td>\n",
              "      <td>-73.978</td>\n",
              "      <td>40.7831</td>\n",
              "      <td>2.4</td>\n",
              "      <td>48293</td>\n",
              "      <td>28440</td>\n",
              "    </tr>\n",
              "  </tbody>\n",
              "</table>\n",
              "</div>\n",
              "      <button class=\"colab-df-convert\" onclick=\"convertToInteractive('df-7445667c-1381-40ac-8e25-26f8ffd4f5a9')\"\n",
              "              title=\"Convert this dataframe to an interactive table.\"\n",
              "              style=\"display:none;\">\n",
              "        \n",
              "  <svg xmlns=\"http://www.w3.org/2000/svg\" height=\"24px\"viewBox=\"0 0 24 24\"\n",
              "       width=\"24px\">\n",
              "    <path d=\"M0 0h24v24H0V0z\" fill=\"none\"/>\n",
              "    <path d=\"M18.56 5.44l.94 2.06.94-2.06 2.06-.94-2.06-.94-.94-2.06-.94 2.06-2.06.94zm-11 1L8.5 8.5l.94-2.06 2.06-.94-2.06-.94L8.5 2.5l-.94 2.06-2.06.94zm10 10l.94 2.06.94-2.06 2.06-.94-2.06-.94-.94-2.06-.94 2.06-2.06.94z\"/><path d=\"M17.41 7.96l-1.37-1.37c-.4-.4-.92-.59-1.43-.59-.52 0-1.04.2-1.43.59L10.3 9.45l-7.72 7.72c-.78.78-.78 2.05 0 2.83L4 21.41c.39.39.9.59 1.41.59.51 0 1.02-.2 1.41-.59l7.78-7.78 2.81-2.81c.8-.78.8-2.07 0-2.86zM5.41 20L4 18.59l7.72-7.72 1.47 1.35L5.41 20z\"/>\n",
              "  </svg>\n",
              "      </button>\n",
              "      \n",
              "  <style>\n",
              "    .colab-df-container {\n",
              "      display:flex;\n",
              "      flex-wrap:wrap;\n",
              "      gap: 12px;\n",
              "    }\n",
              "\n",
              "    .colab-df-convert {\n",
              "      background-color: #E8F0FE;\n",
              "      border: none;\n",
              "      border-radius: 50%;\n",
              "      cursor: pointer;\n",
              "      display: none;\n",
              "      fill: #1967D2;\n",
              "      height: 32px;\n",
              "      padding: 0 0 0 0;\n",
              "      width: 32px;\n",
              "    }\n",
              "\n",
              "    .colab-df-convert:hover {\n",
              "      background-color: #E2EBFA;\n",
              "      box-shadow: 0px 1px 2px rgba(60, 64, 67, 0.3), 0px 1px 3px 1px rgba(60, 64, 67, 0.15);\n",
              "      fill: #174EA6;\n",
              "    }\n",
              "\n",
              "    [theme=dark] .colab-df-convert {\n",
              "      background-color: #3B4455;\n",
              "      fill: #D2E3FC;\n",
              "    }\n",
              "\n",
              "    [theme=dark] .colab-df-convert:hover {\n",
              "      background-color: #434B5C;\n",
              "      box-shadow: 0px 1px 3px 1px rgba(0, 0, 0, 0.15);\n",
              "      filter: drop-shadow(0px 1px 2px rgba(0, 0, 0, 0.3));\n",
              "      fill: #FFFFFF;\n",
              "    }\n",
              "  </style>\n",
              "\n",
              "      <script>\n",
              "        const buttonEl =\n",
              "          document.querySelector('#df-7445667c-1381-40ac-8e25-26f8ffd4f5a9 button.colab-df-convert');\n",
              "        buttonEl.style.display =\n",
              "          google.colab.kernel.accessAllowed ? 'block' : 'none';\n",
              "\n",
              "        async function convertToInteractive(key) {\n",
              "          const element = document.querySelector('#df-7445667c-1381-40ac-8e25-26f8ffd4f5a9');\n",
              "          const dataTable =\n",
              "            await google.colab.kernel.invokeFunction('convertToInteractive',\n",
              "                                                     [key], {});\n",
              "          if (!dataTable) return;\n",
              "\n",
              "          const docLinkHtml = 'Like what you see? Visit the ' +\n",
              "            '<a target=\"_blank\" href=https://colab.research.google.com/notebooks/data_table.ipynb>data table notebook</a>'\n",
              "            + ' to learn more about interactive tables.';\n",
              "          element.innerHTML = '';\n",
              "          dataTable['output_type'] = 'display_data';\n",
              "          await google.colab.output.renderOutput(dataTable, element);\n",
              "          const docLink = document.createElement('div');\n",
              "          docLink.innerHTML = docLinkHtml;\n",
              "          element.appendChild(docLink);\n",
              "        }\n",
              "      </script>\n",
              "    </div>\n",
              "  </div>\n",
              "  "
            ]
          },
          "metadata": {},
          "execution_count": 4
        }
      ]
    },
    {
      "cell_type": "code",
      "source": [
        "def plot_nodes_edges(node1, node2, cost, graph):\n",
        "    \"\"\" Input:\n",
        "              Node 1, Node 2, Cost(\ttrip_distance) \n",
        "              \n",
        "              example :- 48293, 28440, 2.40\n",
        "        Output: \n",
        "              return graph (Add Key as Node and value as its relevent node and cost)\n",
        "\n",
        "              Example :- \n",
        "              {48293: {2.4: 28440, 1.7: 30199, 0.82: 38931, 3.1: 57087, 1.0: 39197},\n",
        "               28440: {2.4: 48293, 1.28: 7474, 2.08: 74465, 1.63: 17351}}\n",
        "              \"\"\"\n",
        "\n",
        "    node_cost = {}\n",
        "    ##############################################START HERE##############################################\n",
        "    # Part 1 (20 pt)\n",
        "    if node1 in graph: \n",
        "      graph[node1][cost] = node2\n",
        "    else: \n",
        "      graph[node1] = {cost : node2}\n",
        "    if node2 in graph:\n",
        "      graph[node2][cost] = node1\n",
        "    else:\n",
        "      graph[node2] = {cost: node1}\n",
        "    ##############################################END HERE################################################\n",
        "    return graph\n",
        "    \n",
        "\n",
        "def create_nodes_edges(dataset):\n",
        "    graph = {}\n",
        "    for i in tqdm(range(dataset.shape[0])):\n",
        "      graph = plot_nodes_edges(dataset.nodeid1[i], dataset.nodeid2[i], dataset.trip_distance[i], graph)\n",
        "      graph = plot_nodes_edges(dataset.nodeid2[i], dataset.nodeid1[i], dataset.trip_distance[i], graph)\n",
        "    return graph \n",
        "\n",
        "    \n",
        "def extract_longitude_latitude(dataset):\n",
        "    \"\"\" Input : \n",
        "              (nodeid1, pickup_latitude, pickup_longitude), Here we want to connect each node \n",
        "              with its pickup_longitude & pickup_latitude\n",
        "              (nodeid2, pickup_latitude, pickup_longitude), Here we want to connect each node \n",
        "              with its dropoff_longitude & dropoff_latitude\n",
        "        Output : \n",
        "              {node : [latitude, longitude]} \"\"\"\n",
        "    node_lat_long = {}\n",
        "    for i in tqdm(range(dataset.shape[0])):\n",
        "        node_lat_long[dataset.nodeid1[i]] = [dataset.pickup_latitude[i],dataset.pickup_longitude[i]]\n",
        "        node_lat_long[dataset.nodeid2[i]] = [dataset.dropoff_latitude[i],dataset.dropoff_longitude[i]]\n",
        "    return  node_lat_long"
      ],
      "metadata": {
        "id": "B7miUbyGudlc"
      },
      "execution_count": 5,
      "outputs": []
    },
    {
      "cell_type": "code",
      "source": [
        "graph = create_nodes_edges(data_NYC)"
      ],
      "metadata": {
        "colab": {
          "base_uri": "https://localhost:8080/"
        },
        "id": "24viIfde6XWY",
        "outputId": "60fdb9bc-7e39-4661-df2b-f16a1d90bf32"
      },
      "execution_count": 6,
      "outputs": [
        {
          "output_type": "stream",
          "name": "stderr",
          "text": [
            "100%|██████████| 168152/168152 [00:15<00:00, 10831.50it/s]\n"
          ]
        }
      ]
    },
    {
      "cell_type": "code",
      "source": [
        "# calling create_nodes_edges fucntion\n",
        "node_lat_long = extract_longitude_latitude(data_NYC)"
      ],
      "metadata": {
        "colab": {
          "base_uri": "https://localhost:8080/"
        },
        "id": "DYd3H8XpLUJ4",
        "outputId": "c2ea94df-111d-4a91-8c7e-8790d701b993"
      },
      "execution_count": 7,
      "outputs": [
        {
          "output_type": "stream",
          "name": "stderr",
          "text": [
            "100%|██████████| 168152/168152 [00:08<00:00, 19130.16it/s]\n"
          ]
        }
      ]
    },
    {
      "cell_type": "code",
      "source": [
        "# Data structure for supporting uniform cost search.\n",
        "class PriorityQueue:\n",
        "    def  __init__(self):\n",
        "        self.DONE = -100000\n",
        "        self.heap = []\n",
        "        self.priorities = {}  # Map from state to priority\n",
        "\n",
        "    # Insert |state| into the heap with priority |newPriority| if\n",
        "    # |state| isn't in the heap or |newPriority| is smaller than the existing\n",
        "    # priority.\n",
        "    # Return whether the priority queue was updated.\n",
        "    def update(self, node, newCost, newHistory):\n",
        "        oldCost = self.priorities.get(node, None)\n",
        "        if oldCost == None or newCost < oldCost:\n",
        "            self.priorities[node] = newCost\n",
        "            heapq.heappush(self.heap, (newCost, node, newHistory))\n",
        "            return True\n",
        "        return False\n",
        "\n",
        "    # Returns (state with minimum priority, priority)\n",
        "    # or (None, None) if the priority queue is empty.\n",
        "    def removeMin(self):\n",
        "        while len(self.heap) > 0:\n",
        "            priority, state, history = heapq.heappop(self.heap)\n",
        "            if self.priorities[state] == self.DONE: continue  # Outdated priority, skip\n",
        "            self.priorities[state] = self.DONE\n",
        "            return (state, priority, history)\n",
        "        return (None, None, None) # Nothing left...\n"
      ],
      "metadata": {
        "id": "XzNDNujhwte8"
      },
      "execution_count": 8,
      "outputs": []
    },
    {
      "cell_type": "code",
      "source": [
        "class PathFinding(object):\n",
        "    def __init__(self, graph, node_lat_long, start_position, end_position):\n",
        "        self.graph = graph\n",
        "        self.node_lat_long = node_lat_long\n",
        "        self.start_node = start_position\n",
        "        self.end_node = end_position\n",
        "        \n",
        "    def startState(self):\n",
        "        return self.start_node\n",
        "    \n",
        "    def succAndCost(self, current_node):\n",
        "        \"\"\" \n",
        "            In this Funciton we have to return all the nodes that are connected to the current_node. \n",
        "            \n",
        "            Note that your code needs to work for any input, not just for the one example below. \n",
        "\n",
        "            Input:\n",
        "                  curent_node\n",
        "            output: \n",
        "            children: all the nodes that are connected to the current node and it's cost.\n",
        "            Example: children = [(node1,cost1), (node2, cost2)]\n",
        "        \"\"\"\n",
        "        # Generate children\n",
        "        children = []\n",
        "        ##############################################START HERE##############################################\n",
        "        # Part 2.1 (10 pt)\n",
        "        if current_node in self.graph:\n",
        "          for cost, node in self.graph[current_node].items():\n",
        "            children.append((node, cost))\n",
        "        ##############################################END HERE################################################        \n",
        "        return children\n",
        "    \n",
        "    def isEnd(self, current_node):\n",
        "        return self.end_node == current_node\n",
        "    \n",
        "    def heuristic(self, node):\n",
        "        \"\"\" \n",
        "          In this function you need to return the heuristic value of node. \n",
        "          Input: \n",
        "              Input will be the node\n",
        "          Output: \n",
        "              Output will the distance between the node and the end node, please use distance.geodesic to compute the actual distance between two nodes\n",
        "        \"\"\"\n",
        "        ##############################################START HERE##############################################\n",
        "          # Part 2.2 (10 pt)\n",
        "        result = distance.geodesic(node_lat_long[node], node_lat_long[self.end_node]).miles\n",
        "\n",
        "        ##############################################END HERE################################################\n",
        "        return result"
      ],
      "metadata": {
        "id": "iwwnPTi5wu5g"
      },
      "execution_count": 9,
      "outputs": []
    },
    {
      "cell_type": "code",
      "source": [
        "def printSolution(solution):\n",
        "    totalCost, history = solution\n",
        "    print_history = 'Starting Node' \n",
        "    for node in history:\n",
        "        print_history += ' -> ' + str(node)\n",
        "    print(print_history)\n",
        "    print('totalCost: {}'.format(totalCost))"
      ],
      "metadata": {
        "id": "AsCMkYErwwNf"
      },
      "execution_count": 10,
      "outputs": []
    },
    {
      "cell_type": "code",
      "source": [
        "def astar(problem):\n",
        "    frontier = PriorityQueue()\n",
        "    explored = set([])\n",
        "    \"\"\" \n",
        "        In this function you have to write an algorithm to calculate the path with the minimum cost using A* Search \n",
        "        by calculating it's heuristic cost. Replace the code between the #### with the correct implementation. \n",
        "        Input:\n",
        "              Input will be an object of the class PathFinding\n",
        "        Output:\n",
        "              return cost, history\n",
        "              (history: Path from start node to the end node\n",
        "              cost: Cost to travel from start node to end node)\n",
        "\n",
        "                              OR\n",
        "\n",
        "              return False \n",
        "              (if no path is found between Start node and End node)\n",
        "    \"\"\"\n",
        "\n",
        "    ##############################################START HERE##############################################\n",
        "    # Part 3 (30 pt)\n",
        "    start_node = problem.startState()\n",
        "    frontier.update(start_node, problem.heuristic(start_node), [])\n",
        "\n",
        "    while True:\n",
        "      current_node, past_cost, history = frontier.removeMin()\n",
        "      explored.add(current_node)\n",
        "      if problem.isEnd(current_node):\n",
        "        result = (past_cost, history)\n",
        "        break \n",
        "      current_node_heuristics = problem.heuristic(current_node)\n",
        "      for child_node, cur_node_cost in problem.succAndCost(current_node):\n",
        "        if child_node in explored:\n",
        "          continue\n",
        "        child_heuristic = problem.heuristic(child_node)\n",
        "        new_distance = past_cost + cur_node_cost + child_heuristic - current_node_heuristics\n",
        "        frontier.update(child_node, new_distance, history + [child_node]) \n",
        "\n",
        "    cost = result[0]\n",
        "    history = result[1]\n",
        "    ##############################################END HERE################################################\n",
        "    if len(history) == 0: \n",
        "      return False\n",
        "    else:\n",
        "      return cost, history"
      ],
      "metadata": {
        "id": "B0oK37-oMjpl"
      },
      "execution_count": 11,
      "outputs": []
    },
    {
      "cell_type": "code",
      "source": [
        "def UCS(problem):\n",
        "    \"\"\" \n",
        "        In this function you have to write an algorithm to calculate the path with the minimum cost using Uniform Cost Search and UCS \n",
        "        by calculating it's heuristic cost, cost respectively. Replace the code between the #### with the correct implementation. \n",
        "        Input:\n",
        "              Input will be an object of the class PathFinding\n",
        "        Output:\n",
        "              return cost, history\n",
        "              (history: Path from start node to the end node\n",
        "              cost: Cost to travel from start node to end node)\n",
        "\n",
        "                              OR\n",
        "\n",
        "              return False \n",
        "              (if no path is found between Start node and End node)\n",
        "    \"\"\"\n",
        "    frontier = PriorityQueue()\n",
        "    explored = set([])\n",
        "    ##############################################START HERE##############################################\n",
        "    # Part 3 (30 pt)\n",
        "    frontier.update(problem.startState(), 0, [])\n",
        "    while True:\n",
        "      state, past_cost, history = frontier.removeMin()\n",
        "      explored.add(state)\n",
        "      if problem.isEnd(state):\n",
        "        result = (past_cost, history)\n",
        "        break\n",
        "      for new_state, cost in problem.succAndCost(state):\n",
        "        if new_state in explored:\n",
        "          continue\n",
        "        frontier.update(new_state, past_cost + cost, history + [new_state])\n",
        "\n",
        "    cost = result[0]\n",
        "    history = result[1]\n",
        "    ##############################################END HERE################################################\n",
        "    if len(history) == 0: \n",
        "      return False\n",
        "    else:\n",
        "      return cost, history"
      ],
      "metadata": {
        "id": "sQZj2NSwM-aC"
      },
      "execution_count": 12,
      "outputs": []
    },
    {
      "cell_type": "code",
      "source": [
        "\"\"\"\n",
        "    Below are some of the test cases that you can try\n",
        "    Start Node = 129891 | End Node = 7381\n",
        "    Start Node = 51080 | End Node 79375\n",
        "\n",
        "\"\"\"\n",
        "start_node = 129891\n",
        "end_node = 10666\n",
        "problem = PathFinding(graph, node_lat_long, start_node, end_node) "
      ],
      "metadata": {
        "id": "jQ1SvEnQObUO"
      },
      "execution_count": 13,
      "outputs": []
    },
    {
      "cell_type": "code",
      "source": [
        "# Astart Algorithm\n",
        "# Calling the function\n",
        "astart_path_cost = astar(problem)\n",
        "\n",
        "# Checking if returned value have cost and history or not\n",
        "if astart_path_cost != False:\n",
        "    printSolution(astart_path_cost)"
      ],
      "metadata": {
        "colab": {
          "base_uri": "https://localhost:8080/"
        },
        "id": "uxiej_VcM8D4",
        "outputId": "6d204fd5-53ce-4a82-f7e1-d73636d06289"
      },
      "execution_count": 14,
      "outputs": [
        {
          "output_type": "stream",
          "name": "stdout",
          "text": [
            "Starting Node -> 134204 -> 102266 -> 47620 -> 10470 -> 140016 -> 121478 -> 87417 -> 96990 -> 93345 -> 7651 -> 46547 -> 10666\n",
            "totalCost: 15.679999999999998\n"
          ]
        }
      ]
    },
    {
      "cell_type": "code",
      "source": [
        "# UCS Algorithm\n",
        "# Calling the function\n",
        "astart_path_cost = UCS(problem)\n",
        "\n",
        "# Checking if returned value have cost and history or not\n",
        "if astart_path_cost != False:\n",
        "    printSolution(astart_path_cost)"
      ],
      "metadata": {
        "colab": {
          "base_uri": "https://localhost:8080/"
        },
        "id": "pEPR9rrINn9w",
        "outputId": "c6fd02c8-dac5-4bdb-84f9-9123819adcd5"
      },
      "execution_count": 15,
      "outputs": [
        {
          "output_type": "stream",
          "name": "stdout",
          "text": [
            "Starting Node -> 134204 -> 102266 -> 47620 -> 10470 -> 140016 -> 121478 -> 87417 -> 96990 -> 93345 -> 7651 -> 46547 -> 10666\n",
            "totalCost: 15.680000000000001\n"
          ]
        }
      ]
    },
    {
      "cell_type": "code",
      "source": [
        "import random\n",
        "\n",
        "size = len(data_NYC.index)\n",
        "TEST_SIZE = 20\n",
        "\n",
        "for i in range(TEST_SIZE):\n",
        "  from_node_index = random.randint(0, size-1)\n",
        "  to_node_index = random.randint(0, size-1)\n",
        "  \n",
        "  start_node = data_NYC.loc[from_node_index, \"nodeid1\"]\n",
        "  end_node = data_NYC.loc[to_node_index, \"nodeid2\"]\n",
        "  problem = PathFinding(graph, node_lat_long, start_node, end_node) \n",
        "\n",
        "  print(f\"###########################Running Test # {i+1}###############################\")\n",
        "\n",
        "  ucs_path_cost = UCS(problem)\n",
        "  if ucs_path_cost != False:\n",
        "      print(f\"UCS path from {start_node} to {end_node}:\")\n",
        "      printSolution(ucs_path_cost)\n",
        "  else:\n",
        "    print(f\"No path found in UCS from start node:{start_node} to end node:{end_node}\")\n",
        "  \n",
        "\n",
        "\n",
        "  astart_path_cost = astar(problem)\n",
        "  if astart_path_cost != False:\n",
        "      print(f\"A star path from {start_node} to {end_node}:\")\n",
        "      printSolution(astart_path_cost)\n",
        "  else:\n",
        "    print(f\"No path found in A star from start node:{start_node} to end node:{end_node}\")"
      ],
      "metadata": {
        "colab": {
          "base_uri": "https://localhost:8080/"
        },
        "id": "KnXEfnduvZOp",
        "outputId": "7cbdacb4-bdcd-4e1b-9f98-fa574a565a77"
      },
      "execution_count": null,
      "outputs": [
        {
          "output_type": "stream",
          "name": "stdout",
          "text": [
            "###########################Running Test # 1###############################\n",
            "UCS path from 85390 to 75087:\n",
            "Starting Node -> 91711 -> 97339 -> 49881 -> 87105 -> 30621 -> 13978 -> 93411 -> 53081 -> 77242 -> 7930 -> 71772 -> 75087\n",
            "totalCost: 11.45\n",
            "A star path from 85390 to 75087:\n",
            "Starting Node -> 91711 -> 97339 -> 49881 -> 87105 -> 30621 -> 13978 -> 93411 -> 53081 -> 77242 -> 7930 -> 71772 -> 75087\n",
            "totalCost: 11.450000000000001\n",
            "###########################Running Test # 2###############################\n",
            "UCS path from 15272 to 77985:\n",
            "Starting Node -> 30973 -> 117565 -> 16048 -> 120393 -> 63746 -> 77985\n",
            "totalCost: 20.34\n",
            "A star path from 15272 to 77985:\n",
            "Starting Node -> 30973 -> 117565 -> 16048 -> 120393 -> 63746 -> 77985\n",
            "totalCost: 20.340000000000003\n",
            "###########################Running Test # 3###############################\n",
            "UCS path from 122121 to 98532:\n",
            "Starting Node -> 84898 -> 58226 -> 88569 -> 45957 -> 144792 -> 73265 -> 96184 -> 29309 -> 24367 -> 86685 -> 92631 -> 36868 -> 98532\n",
            "totalCost: 27.54\n",
            "A star path from 122121 to 98532:\n",
            "Starting Node -> 84898 -> 58226 -> 88569 -> 45957 -> 144792 -> 73265 -> 96184 -> 29309 -> 24367 -> 86685 -> 92631 -> 36868 -> 98532\n",
            "totalCost: 27.54\n",
            "###########################Running Test # 4###############################\n",
            "UCS path from 106239 to 18314:\n",
            "Starting Node -> 19811 -> 109005 -> 10010 -> 817 -> 82064 -> 13082 -> 127937 -> 94220 -> 18314\n",
            "totalCost: 9.860000000000001\n",
            "A star path from 106239 to 18314:\n",
            "Starting Node -> 19811 -> 109005 -> 10010 -> 817 -> 82064 -> 13082 -> 127937 -> 94220 -> 18314\n",
            "totalCost: 9.86\n",
            "###########################Running Test # 5###############################\n",
            "UCS path from 102486 to 33860:\n",
            "Starting Node -> 92511 -> 12758 -> 121225 -> 26182 -> 71229 -> 82490 -> 76342 -> 82083 -> 33860\n",
            "totalCost: 11.08\n",
            "A star path from 102486 to 33860:\n",
            "Starting Node -> 92511 -> 12758 -> 121225 -> 26182 -> 71229 -> 82490 -> 76342 -> 82083 -> 33860\n",
            "totalCost: 11.08\n",
            "###########################Running Test # 6###############################\n",
            "UCS path from 79207 to 61824:\n",
            "Starting Node -> 135447 -> 121527 -> 137976 -> 27788 -> 112530 -> 28421 -> 77379 -> 64919 -> 67444 -> 51520 -> 142787 -> 74070 -> 12362 -> 95396 -> 61824\n",
            "totalCost: 13.260000000000002\n",
            "A star path from 79207 to 61824:\n",
            "Starting Node -> 135447 -> 121527 -> 137976 -> 27788 -> 112530 -> 28421 -> 77379 -> 64919 -> 67444 -> 51520 -> 142787 -> 74070 -> 12362 -> 95396 -> 61824\n",
            "totalCost: 13.26\n",
            "###########################Running Test # 7###############################\n",
            "UCS path from 128437 to 25697:\n",
            "Starting Node -> 94689 -> 53781 -> 103218 -> 16278 -> 124516 -> 97206 -> 100510 -> 33030 -> 49712 -> 130162 -> 56956 -> 42871 -> 25697\n",
            "totalCost: 14.86\n",
            "A star path from 128437 to 25697:\n",
            "Starting Node -> 94689 -> 53781 -> 103218 -> 16278 -> 124516 -> 97206 -> 100510 -> 33030 -> 49712 -> 130162 -> 56956 -> 42871 -> 25697\n",
            "totalCost: 14.86\n",
            "###########################Running Test # 8###############################\n",
            "UCS path from 6183 to 108301:\n",
            "Starting Node -> 138199 -> 22355 -> 94179 -> 8034 -> 106087 -> 70433 -> 35111 -> 15839 -> 71143 -> 108301\n",
            "totalCost: 14.46\n",
            "A star path from 6183 to 108301:\n",
            "Starting Node -> 138199 -> 22355 -> 94179 -> 8034 -> 106087 -> 70433 -> 35111 -> 15839 -> 71143 -> 108301\n",
            "totalCost: 14.460000000000004\n",
            "###########################Running Test # 9###############################\n",
            "UCS path from 106735 to 113211:\n",
            "Starting Node -> 78498 -> 109389 -> 61878 -> 41027 -> 25528 -> 679 -> 82919 -> 47603 -> 25661 -> 63031 -> 71229 -> 113211\n",
            "totalCost: 14.02\n",
            "A star path from 106735 to 113211:\n",
            "Starting Node -> 78498 -> 109389 -> 61878 -> 41027 -> 25528 -> 679 -> 82919 -> 47603 -> 25661 -> 63031 -> 71229 -> 113211\n",
            "totalCost: 14.019999999999998\n",
            "###########################Running Test # 10###############################\n"
          ]
        }
      ]
    }
  ]
}